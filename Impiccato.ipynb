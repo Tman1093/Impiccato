{
 "cells": [
  {
   "cell_type": "code",
   "execution_count": 3,
   "metadata": {},
   "outputs": [
    {
     "ename": "FileNotFoundError",
     "evalue": "[Errno 2] No such file or directory: 'lista_parole'",
     "output_type": "error",
     "traceback": [
      "\u001b[1;31m---------------------------------------------------------------------------\u001b[0m",
      "\u001b[1;31mFileNotFoundError\u001b[0m                         Traceback (most recent call last)",
      "Cell \u001b[1;32mIn[3], line 5\u001b[0m\n\u001b[0;32m      3\u001b[0m \u001b[39m# estrazione di una parola random da un file di testo\u001b[39;00m\n\u001b[0;32m      4\u001b[0m lista \u001b[39m=\u001b[39m []\n\u001b[1;32m----> 5\u001b[0m file \u001b[39m=\u001b[39m \u001b[39mopen\u001b[39;49m(\u001b[39m\"\u001b[39;49m\u001b[39mlista_parole\u001b[39;49m\u001b[39m\"\u001b[39;49m,\u001b[39m\"\u001b[39;49m\u001b[39mr\u001b[39;49m\u001b[39m\"\u001b[39;49m) \u001b[39m# Apertura in modalità lettura\u001b[39;00m\n\u001b[0;32m      6\u001b[0m righe \u001b[39m=\u001b[39m file\u001b[39m.\u001b[39mreadlines() \u001b[39m# Legge una singola riga del file\u001b[39;00m\n\u001b[0;32m      7\u001b[0m \u001b[39mfor\u001b[39;00m parola \u001b[39min\u001b[39;00m righe:\n",
      "File \u001b[1;32m~\\AppData\\Roaming\\Python\\Python311\\site-packages\\IPython\\core\\interactiveshell.py:284\u001b[0m, in \u001b[0;36m_modified_open\u001b[1;34m(file, *args, **kwargs)\u001b[0m\n\u001b[0;32m    277\u001b[0m \u001b[39mif\u001b[39;00m file \u001b[39min\u001b[39;00m {\u001b[39m0\u001b[39m, \u001b[39m1\u001b[39m, \u001b[39m2\u001b[39m}:\n\u001b[0;32m    278\u001b[0m     \u001b[39mraise\u001b[39;00m \u001b[39mValueError\u001b[39;00m(\n\u001b[0;32m    279\u001b[0m         \u001b[39mf\u001b[39m\u001b[39m\"\u001b[39m\u001b[39mIPython won\u001b[39m\u001b[39m'\u001b[39m\u001b[39mt let you open fd=\u001b[39m\u001b[39m{\u001b[39;00mfile\u001b[39m}\u001b[39;00m\u001b[39m by default \u001b[39m\u001b[39m\"\u001b[39m\n\u001b[0;32m    280\u001b[0m         \u001b[39m\"\u001b[39m\u001b[39mas it is likely to crash IPython. If you know what you are doing, \u001b[39m\u001b[39m\"\u001b[39m\n\u001b[0;32m    281\u001b[0m         \u001b[39m\"\u001b[39m\u001b[39myou can use builtins\u001b[39m\u001b[39m'\u001b[39m\u001b[39m open.\u001b[39m\u001b[39m\"\u001b[39m\n\u001b[0;32m    282\u001b[0m     )\n\u001b[1;32m--> 284\u001b[0m \u001b[39mreturn\u001b[39;00m io_open(file, \u001b[39m*\u001b[39;49margs, \u001b[39m*\u001b[39;49m\u001b[39m*\u001b[39;49mkwargs)\n",
      "\u001b[1;31mFileNotFoundError\u001b[0m: [Errno 2] No such file or directory: 'lista_parole'"
     ]
    }
   ],
   "source": [
    "import random\n",
    " \n",
    "# estrazione di una parola random da un file di testo\n",
    "lista = []\n",
    "file = open(\"lista_parole.txt\",\"r\") # Apertura in modalità lettura\n",
    "righe = file.readlines() # Legge una singola riga del file\n",
    "for parola in righe:\n",
    "    lista.append(parola)\n",
    "parola_incognita = random.choice(lista)\n",
    "parola_incognita = parola_incognita[:-1] # bisogna togliere l'ultimo carattere dalla parola incognita se si sceglie dalla lista nel file\n",
    " \n",
    " \n",
    "# scelgo il livello di difficoltà\n",
    "livello = input(\"Scegli il livello: \\n1:facile\\n2:intermedio\\n3:difficile\\n \")\n",
    "while livello != str(1) and livello != str(2) and livello != str(3):\n",
    "    print(\"SCELTA NON VALIDA:RIPROVA\")\n",
    "    livello = input(\"Scegli il livello: \\n1:facile\\n2:intermedio\\n3:difficile\\n \")\n",
    "if livello == str(1):\n",
    "    tentativi_iniziali=10\n",
    "elif livello == str(2):\n",
    "    tentativi_iniziali=6\n",
    "elif livello == str(3):\n",
    "    tentativi_iniziali=3\n",
    "print(\"Hai \" + str(tentativi_iniziali) + \" tentativi\")\n",
    " \n",
    " \n",
    "# stampa gli underscore in base alle lettere della parola\n",
    "print(\"PAROLA DA INDOVINARE: \" + str(''.join(list(\"_\"*len(parola_incognita)))))\n",
    "tentativi = tentativi_iniziali\n",
    "parola_aggiornata = list(\"_\"*len(parola_incognita))\n",
    "lettere_indovinate = []\n",
    "while tentativi > 0:\n",
    "    lettera = input(\"Inserisci lettera: \")\n",
    "    if lettera in parola_incognita:\n",
    "        print(\"La lettera è presente!\")\n",
    "        lettere_indovinate.append(lettera)\n",
    "        for indice in range(len(parola_incognita)):\n",
    "            if parola_incognita[indice] not in lettere_indovinate:\n",
    "                parola_aggiornata[indice] = \"_\"\n",
    "            else:\n",
    "                parola_aggiornata[indice] = parola_incognita[indice]\n",
    "        print(f\"PAROLA DA INDOVINARE: {''.join(parola_aggiornata)}\")\n",
    "        if parola_aggiornata == list(parola_incognita):\n",
    "            break\n",
    "    else:\n",
    "        tentativi -= 1\n",
    "        print(f\"Lettera non presente! Ti rimangono {tentativi} tentativi\")\n",
    " \n",
    "if tentativi == 0:\n",
    "    print(f\"Sei morto impiccato! La parola era: {''.join(parola_incognita)}\")\n",
    "else:\n",
    "    print(\"Hai vinto!\")\n"
   ]
  },
  {
   "cell_type": "code",
   "execution_count": null,
   "metadata": {},
   "outputs": [],
   "source": []
  }
 ],
 "metadata": {
  "kernelspec": {
   "display_name": "Python 3",
   "language": "python",
   "name": "python3"
  },
  "language_info": {
   "codemirror_mode": {
    "name": "ipython",
    "version": 3
   },
   "file_extension": ".py",
   "mimetype": "text/x-python",
   "name": "python",
   "nbconvert_exporter": "python",
   "pygments_lexer": "ipython3",
   "version": "3.11.4"
  },
  "orig_nbformat": 4
 },
 "nbformat": 4,
 "nbformat_minor": 2
}
